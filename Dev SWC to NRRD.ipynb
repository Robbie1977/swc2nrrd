{
 "metadata": {
  "name": ""
 },
 "nbformat": 3,
 "nbformat_minor": 0,
 "worksheets": [
  {
   "cells": [
    {
     "cell_type": "code",
     "collapsed": false,
     "input": [
      "%pylab inline\n",
      "\n",
      "import sys\n",
      "sys.path.append(\"/afs/inf.ed.ac.uk/user/s11/s1144899/PhD/Python Projects/ml2017/averagingNeurons/2018/\")"
     ],
     "language": "python",
     "metadata": {},
     "outputs": [
      {
       "output_type": "stream",
       "stream": "stdout",
       "text": [
        "Populating the interactive namespace from numpy and matplotlib\n"
       ]
      }
     ],
     "prompt_number": 18
    },
    {
     "cell_type": "code",
     "collapsed": false,
     "input": [
      "with open(\"/media/s1144899/OS/SWC2NRRD/10893103.swc\") as fI:\n",
      "    swcIn = fI.readlines()"
     ],
     "language": "python",
     "metadata": {},
     "outputs": [],
     "prompt_number": 2
    },
    {
     "cell_type": "code",
     "collapsed": false,
     "input": [
      "lineDict = {}\n",
      "for thisLine in swcIn:\n",
      "    if thisLine[0]!='#':\n",
      "        splitLine = thisLine.split(\" \")\n",
      "        lineDict[int(splitLine[0])] = {'position':np.array([splitLine[2],splitLine[3],splitLine[4]],dtype=np.float),\n",
      "                                  'radius':splitLine[5],\n",
      "                                  'parent':int(splitLine[6])}"
     ],
     "language": "python",
     "metadata": {},
     "outputs": [],
     "prompt_number": 14
    },
    {
     "cell_type": "code",
     "collapsed": false,
     "input": [
      "for i in range(3):\n",
      "    print np.max([x['position'][i] for x in lineDict.values()])"
     ],
     "language": "python",
     "metadata": {},
     "outputs": [
      {
       "output_type": "stream",
       "stream": "stdout",
       "text": [
        "998.184\n",
        "560.101\n",
        "649.5\n"
       ]
      }
     ],
     "prompt_number": 17
    },
    {
     "cell_type": "code",
     "collapsed": false,
     "input": [
      "outputImg = np.zeros((1000,1000,1000))\n",
      "w = 3\n",
      "for thisDict in lineDict.values():\n",
      "    p = np.round(thisDict['position']).astype(np.int)\n",
      "    outputImg[p[0]-w:p[0]+w+1,p[1]-w:p[1]+w+1,p[2]-w:p[2]+w+1]=255"
     ],
     "language": "python",
     "metadata": {},
     "outputs": [],
     "prompt_number": 37
    },
    {
     "cell_type": "code",
     "collapsed": false,
     "input": [
      "plt.imshow(np.max(outputImg,2))"
     ],
     "language": "python",
     "metadata": {},
     "outputs": [
      {
       "metadata": {},
       "output_type": "pyout",
       "prompt_number": 38,
       "text": [
        "<matplotlib.image.AxesImage at 0x7f38500bd350>"
       ]
      },
      {
       "metadata": {},
       "output_type": "display_data",
       "png": "[encoded data removed]",
       "text": [
        "<matplotlib.figure.Figure at 0x7f3850130610>"
       ]
      }
     ],
     "prompt_number": 38
    },
    {
     "cell_type": "code",
     "collapsed": false,
     "input": [
      "#outputImg = np.zeros((32768,32768,4840))\n",
      "outputImg = np.zeros((1000,1000,1000),dtype=np.uint8)\n",
      "from drawTube import doCrossCircC,doAddSphereC\n",
      "for thisDict in lineDict.values():\n",
      "    if thisDict['parent'] != -1:\n",
      "        pA = thisDict['position']\n",
      "        pB = lineDict[thisDict['parent']]['position']\n",
      "        for t in np.arange(0.0,1.0,0.3):\n",
      "            doCrossCircC(t,outputImg,3,[pA,pA,pB,pB])\n",
      "        #doAddSphereC(outputImg,3,pA)"
     ],
     "language": "python",
     "metadata": {},
     "outputs": [],
     "prompt_number": 53
    },
    {
     "cell_type": "code",
     "collapsed": false,
     "input": [
      "plt.imshow(np.max(outputImg,2))"
     ],
     "language": "python",
     "metadata": {},
     "outputs": [
      {
       "metadata": {},
       "output_type": "pyout",
       "prompt_number": 55,
       "text": [
        "<matplotlib.image.AxesImage at 0x7f3845a63290>"
       ]
      },
      {
       "metadata": {},
       "output_type": "display_data",
       "png": "[encoded data removed]",
       "text": [
        "<matplotlib.figure.Figure at 0x7f3845ae7050>"
       ]
      }
     ],
     "prompt_number": 55
    }
   ],
   "metadata": {}
  }
 ]
}